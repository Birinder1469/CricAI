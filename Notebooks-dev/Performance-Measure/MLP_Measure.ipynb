{
 "cells": [
  {
   "cell_type": "code",
   "execution_count": 1,
   "metadata": {},
   "outputs": [
    {
     "data": {
      "text/html": [
       "<div>\n",
       "<style>\n",
       "    .dataframe thead tr:only-child th {\n",
       "        text-align: right;\n",
       "    }\n",
       "\n",
       "    .dataframe thead th {\n",
       "        text-align: left;\n",
       "    }\n",
       "\n",
       "    .dataframe tbody tr th {\n",
       "        vertical-align: top;\n",
       "    }\n",
       "</style>\n",
       "<table border=\"1\" class=\"dataframe\">\n",
       "  <thead>\n",
       "    <tr style=\"text-align: right;\">\n",
       "      <th></th>\n",
       "      <th>Team 1_Afghanistan</th>\n",
       "      <th>Team 1_Australia</th>\n",
       "      <th>Team 1_Bangladesh</th>\n",
       "      <th>Team 1_Bermuda</th>\n",
       "      <th>Team 1_Canada</th>\n",
       "      <th>Team 1_East Africa</th>\n",
       "      <th>Team 1_England</th>\n",
       "      <th>Team 1_Hong Kong</th>\n",
       "      <th>Team 1_India</th>\n",
       "      <th>Team 1_Ireland</th>\n",
       "      <th>...</th>\n",
       "      <th>Winner_New Zealand</th>\n",
       "      <th>Winner_P.N.G.</th>\n",
       "      <th>Winner_Pakistan</th>\n",
       "      <th>Winner_Scotland</th>\n",
       "      <th>Winner_South Africa</th>\n",
       "      <th>Winner_Sri Lanka</th>\n",
       "      <th>Winner_U.A.E.</th>\n",
       "      <th>Winner_U.S.A.</th>\n",
       "      <th>Winner_West Indies</th>\n",
       "      <th>Winner_Zimbabwe</th>\n",
       "    </tr>\n",
       "  </thead>\n",
       "  <tbody>\n",
       "    <tr>\n",
       "      <th>0</th>\n",
       "      <td>0</td>\n",
       "      <td>1</td>\n",
       "      <td>0</td>\n",
       "      <td>0</td>\n",
       "      <td>0</td>\n",
       "      <td>0</td>\n",
       "      <td>0</td>\n",
       "      <td>0</td>\n",
       "      <td>0</td>\n",
       "      <td>0</td>\n",
       "      <td>...</td>\n",
       "      <td>0</td>\n",
       "      <td>0</td>\n",
       "      <td>0</td>\n",
       "      <td>0</td>\n",
       "      <td>0</td>\n",
       "      <td>0</td>\n",
       "      <td>0</td>\n",
       "      <td>0</td>\n",
       "      <td>0</td>\n",
       "      <td>0</td>\n",
       "    </tr>\n",
       "    <tr>\n",
       "      <th>1</th>\n",
       "      <td>0</td>\n",
       "      <td>0</td>\n",
       "      <td>0</td>\n",
       "      <td>0</td>\n",
       "      <td>0</td>\n",
       "      <td>0</td>\n",
       "      <td>1</td>\n",
       "      <td>0</td>\n",
       "      <td>0</td>\n",
       "      <td>0</td>\n",
       "      <td>...</td>\n",
       "      <td>0</td>\n",
       "      <td>0</td>\n",
       "      <td>0</td>\n",
       "      <td>0</td>\n",
       "      <td>0</td>\n",
       "      <td>0</td>\n",
       "      <td>0</td>\n",
       "      <td>0</td>\n",
       "      <td>0</td>\n",
       "      <td>0</td>\n",
       "    </tr>\n",
       "    <tr>\n",
       "      <th>2</th>\n",
       "      <td>0</td>\n",
       "      <td>0</td>\n",
       "      <td>0</td>\n",
       "      <td>0</td>\n",
       "      <td>0</td>\n",
       "      <td>0</td>\n",
       "      <td>1</td>\n",
       "      <td>0</td>\n",
       "      <td>0</td>\n",
       "      <td>0</td>\n",
       "      <td>...</td>\n",
       "      <td>0</td>\n",
       "      <td>0</td>\n",
       "      <td>0</td>\n",
       "      <td>0</td>\n",
       "      <td>0</td>\n",
       "      <td>0</td>\n",
       "      <td>0</td>\n",
       "      <td>0</td>\n",
       "      <td>0</td>\n",
       "      <td>0</td>\n",
       "    </tr>\n",
       "    <tr>\n",
       "      <th>3</th>\n",
       "      <td>0</td>\n",
       "      <td>0</td>\n",
       "      <td>0</td>\n",
       "      <td>0</td>\n",
       "      <td>0</td>\n",
       "      <td>0</td>\n",
       "      <td>1</td>\n",
       "      <td>0</td>\n",
       "      <td>0</td>\n",
       "      <td>0</td>\n",
       "      <td>...</td>\n",
       "      <td>0</td>\n",
       "      <td>0</td>\n",
       "      <td>0</td>\n",
       "      <td>0</td>\n",
       "      <td>0</td>\n",
       "      <td>0</td>\n",
       "      <td>0</td>\n",
       "      <td>0</td>\n",
       "      <td>0</td>\n",
       "      <td>0</td>\n",
       "    </tr>\n",
       "    <tr>\n",
       "      <th>4</th>\n",
       "      <td>0</td>\n",
       "      <td>0</td>\n",
       "      <td>0</td>\n",
       "      <td>0</td>\n",
       "      <td>0</td>\n",
       "      <td>0</td>\n",
       "      <td>0</td>\n",
       "      <td>0</td>\n",
       "      <td>0</td>\n",
       "      <td>0</td>\n",
       "      <td>...</td>\n",
       "      <td>1</td>\n",
       "      <td>0</td>\n",
       "      <td>0</td>\n",
       "      <td>0</td>\n",
       "      <td>0</td>\n",
       "      <td>0</td>\n",
       "      <td>0</td>\n",
       "      <td>0</td>\n",
       "      <td>0</td>\n",
       "      <td>0</td>\n",
       "    </tr>\n",
       "  </tbody>\n",
       "</table>\n",
       "<p>5 rows × 240 columns</p>\n",
       "</div>"
      ],
      "text/plain": [
       "   Team 1_Afghanistan  Team 1_Australia  Team 1_Bangladesh  Team 1_Bermuda  \\\n",
       "0                   0                 1                  0               0   \n",
       "1                   0                 0                  0               0   \n",
       "2                   0                 0                  0               0   \n",
       "3                   0                 0                  0               0   \n",
       "4                   0                 0                  0               0   \n",
       "\n",
       "   Team 1_Canada  Team 1_East Africa  Team 1_England  Team 1_Hong Kong  \\\n",
       "0              0                   0               0                 0   \n",
       "1              0                   0               1                 0   \n",
       "2              0                   0               1                 0   \n",
       "3              0                   0               1                 0   \n",
       "4              0                   0               0                 0   \n",
       "\n",
       "   Team 1_India  Team 1_Ireland       ...         Winner_New Zealand  \\\n",
       "0             0               0       ...                          0   \n",
       "1             0               0       ...                          0   \n",
       "2             0               0       ...                          0   \n",
       "3             0               0       ...                          0   \n",
       "4             0               0       ...                          1   \n",
       "\n",
       "   Winner_P.N.G.  Winner_Pakistan  Winner_Scotland  Winner_South Africa  \\\n",
       "0              0                0                0                    0   \n",
       "1              0                0                0                    0   \n",
       "2              0                0                0                    0   \n",
       "3              0                0                0                    0   \n",
       "4              0                0                0                    0   \n",
       "\n",
       "   Winner_Sri Lanka  Winner_U.A.E.  Winner_U.S.A.  Winner_West Indies  \\\n",
       "0                 0              0              0                   0   \n",
       "1                 0              0              0                   0   \n",
       "2                 0              0              0                   0   \n",
       "3                 0              0              0                   0   \n",
       "4                 0              0              0                   0   \n",
       "\n",
       "   Winner_Zimbabwe  \n",
       "0                0  \n",
       "1                0  \n",
       "2                0  \n",
       "3                0  \n",
       "4                0  \n",
       "\n",
       "[5 rows x 240 columns]"
      ]
     },
     "execution_count": 1,
     "metadata": {},
     "output_type": "execute_result"
    }
   ],
   "source": [
    "#Import CSV File\n",
    "import pandas as pd\n",
    "from sklearn.model_selection import train_test_split as tts\n",
    "match_data = pd.read_csv('finalDataset.csv')\n",
    "match_data.head()"
   ]
  },
  {
   "cell_type": "code",
   "execution_count": 2,
   "metadata": {},
   "outputs": [],
   "source": [
    "match_data_India = match_data.loc[(match_data[\"Team 1_India\"]==True)|(match_data[\"Team 2_India\"]==True)]\n",
    "match_data_Australia = match_data.loc[(match_data[\"Team 1_Australia\"]==True)|(match_data[\"Team 2_Australia\"]==True)]\n",
    "match_data_Pakistan = match_data.loc[(match_data[\"Team 1_Pakistan\"]==True)|(match_data[\"Team 2_Pakistan\"]==True)]"
   ]
  },
  {
   "cell_type": "code",
   "execution_count": 3,
   "metadata": {},
   "outputs": [
    {
     "name": "stdout",
     "output_type": "stream",
     "text": [
      "0 Team 1_Afghanistan\n",
      "1 Team 1_Australia\n",
      "2 Team 1_Bangladesh\n",
      "3 Team 1_Bermuda\n",
      "4 Team 1_Canada\n",
      "5 Team 1_East Africa\n",
      "6 Team 1_England\n",
      "7 Team 1_Hong Kong\n",
      "8 Team 1_India\n",
      "9 Team 1_Ireland\n",
      "10 Team 1_Kenya\n",
      "11 Team 1_Namibia\n",
      "12 Team 1_Netherlands\n",
      "13 Team 1_New Zealand\n",
      "14 Team 1_P.N.G.\n",
      "15 Team 1_Pakistan\n",
      "16 Team 1_Scotland\n",
      "17 Team 1_South Africa\n",
      "18 Team 1_Sri Lanka\n",
      "19 Team 1_U.A.E.\n",
      "20 Team 1_U.S.A.\n",
      "21 Team 1_West Indies\n",
      "22 Team 1_Zimbabwe\n",
      "23 Team 2_Afghanistan\n",
      "24 Team 2_Australia\n",
      "25 Team 2_Bangladesh\n",
      "26 Team 2_Bermuda\n",
      "27 Team 2_Canada\n",
      "28 Team 2_East Africa\n",
      "29 Team 2_England\n",
      "30 Team 2_Hong Kong\n",
      "31 Team 2_India\n",
      "32 Team 2_Ireland\n",
      "33 Team 2_Kenya\n",
      "34 Team 2_Namibia\n",
      "35 Team 2_Netherlands\n",
      "36 Team 2_New Zealand\n",
      "37 Team 2_P.N.G.\n",
      "38 Team 2_Pakistan\n",
      "39 Team 2_Scotland\n",
      "40 Team 2_South Africa\n",
      "41 Team 2_Sri Lanka\n",
      "42 Team 2_U.A.E.\n",
      "43 Team 2_U.S.A.\n",
      "44 Team 2_West Indies\n",
      "45 Team 2_Zimbabwe\n",
      "46 Ground_Aberdeen\n",
      "47 Ground_Abu Dhabi\n",
      "48 Ground_Adelaide\n",
      "49 Ground_Ahmedabad\n",
      "50 Ground_Albion\n",
      "51 Ground_Albury\n",
      "52 Ground_Amritsar\n",
      "53 Ground_Amstelveen\n",
      "54 Ground_Auckland\n",
      "55 Ground_Ayr\n",
      "56 Ground_Ballarat\n",
      "57 Ground_Basseterre\n",
      "58 Ground_Belfast\n",
      "59 Ground_Bengaluru\n",
      "60 Ground_Benoni\n",
      "61 Ground_Berri\n",
      "62 Ground_Birmingham\n",
      "63 Ground_Bloemfontein\n",
      "64 Ground_Bogra\n",
      "65 Ground_Bridgetown\n",
      "66 Ground_Brisbane\n",
      "67 Ground_Bristol\n",
      "68 Ground_Bulawayo\n",
      "69 Ground_Cairns\n",
      "70 Ground_Canberra\n",
      "71 Ground_Canterbury\n",
      "72 Ground_Cape Town\n",
      "73 Ground_Cardiff\n",
      "74 Ground_Castries\n",
      "75 Ground_Centurion\n",
      "76 Ground_Chandigarh\n",
      "77 Ground_Chelmsford\n",
      "78 Ground_Chennai\n",
      "79 Ground_Chester\n",
      "80 Ground_Chittagong\n",
      "81 Ground_Christchurch\n",
      "82 Ground_Colombo\n",
      "83 Ground_Cuttack\n",
      "84 Ground_Dambulla\n",
      "85 Ground_Darwin\n",
      "86 Ground_Delhi\n",
      "87 Ground_Derby\n",
      "88 Ground_Devonport\n",
      "89 Ground_Dhaka\n",
      "90 Ground_Dharamsala\n",
      "91 Ground_Dubai\n",
      "92 Ground_Dublin\n",
      "93 Ground_Dunedin\n",
      "94 Ground_Durban\n",
      "95 Ground_East London\n",
      "96 Ground_Edinburgh\n",
      "97 Ground_Faisalabad\n",
      "98 Ground_Faridabad\n",
      "99 Ground_Fatullah\n",
      "100 Ground_Galle\n",
      "101 Ground_Georgetown\n",
      "102 Ground_Glasgow\n",
      "103 Ground_Greater Noida\n",
      "104 Ground_Gros Islet\n",
      "105 Ground_Gujranwala\n",
      "106 Ground_Guwahati\n",
      "107 Ground_Gwalior\n",
      "108 Ground_Hambantota\n",
      "109 Ground_Hamilton\n",
      "110 Ground_Harare\n",
      "111 Ground_Hobart\n",
      "112 Ground_Hove\n",
      "113 Ground_Hyderabad\n",
      "114 Ground_ICCA Dubai\n",
      "115 Ground_Indore\n",
      "116 Ground_Jaipur\n",
      "117 Ground_Jalandhar\n",
      "118 Ground_Jamshedpur\n",
      "119 Ground_Jodhpur\n",
      "120 Ground_Johannesburg\n",
      "121 Ground_Kandy\n",
      "122 Ground_Kanpur\n",
      "123 Ground_Karachi\n",
      "124 Ground_Khulna\n",
      "125 Ground_Kimberley\n",
      "126 Ground_King City\n",
      "127 Ground_Kingston\n",
      "128 Ground_Kingstown\n",
      "129 Ground_Kochi\n",
      "130 Ground_Kolkata\n",
      "131 Ground_Kuala Lumpur\n",
      "132 Ground_Kwekwe\n",
      "133 Ground_Lahore\n",
      "134 Ground_Launceston\n",
      "135 Ground_Leeds\n",
      "136 Ground_Leicester\n",
      "137 Ground_Lincoln\n",
      "138 Ground_Lord's\n",
      "139 Ground_Lucknow\n",
      "140 Ground_Manchester\n",
      "141 Ground_Margao\n",
      "142 Ground_Melbourne\n",
      "143 Ground_Mohali\n",
      "144 Ground_Mombasa\n",
      "145 Ground_Mong Kok\n",
      "146 Ground_Moratuwa\n",
      "147 Ground_Mount Maunganui\n",
      "148 Ground_Multan\n",
      "149 Ground_Mumbai\n",
      "150 Ground_Nagpur\n",
      "151 Ground_Nairobi\n",
      "152 Ground_Napier\n",
      "153 Ground_Nelson\n",
      "154 Ground_New Delhi\n",
      "155 Ground_New Plymouth\n",
      "156 Ground_North Sound\n",
      "157 Ground_Northampton\n",
      "158 Ground_Nottingham\n",
      "159 Ground_Paarl\n",
      "160 Ground_Pallekele\n",
      "161 Ground_Patna\n",
      "162 Ground_Perth\n",
      "163 Ground_Peshawar\n",
      "164 Ground_Pietermaritzburg\n",
      "165 Ground_Port Elizabeth\n",
      "166 Ground_Port Moresby\n",
      "167 Ground_Port of Spain\n",
      "168 Ground_Potchefstroom\n",
      "169 Ground_Providence\n",
      "170 Ground_Pune\n",
      "171 Ground_Queenstown\n",
      "172 Ground_Quetta\n",
      "173 Ground_Rajkot\n",
      "174 Ground_Ranchi\n",
      "175 Ground_Rawalpindi\n",
      "176 Ground_Roseau\n",
      "177 Ground_Rotterdam\n",
      "178 Ground_Sahiwal\n",
      "179 Ground_Sargodha\n",
      "180 Ground_Scarborough\n",
      "181 Ground_Schiedam\n",
      "182 Ground_Sharjah\n",
      "183 Ground_Sheikhupura\n",
      "184 Ground_Sialkot\n",
      "185 Ground_Singapore\n",
      "186 Ground_Southampton\n",
      "187 Ground_Srinagar\n",
      "188 Ground_St George's\n",
      "189 Ground_St John's\n",
      "190 Ground_Swansea\n",
      "191 Ground_Sydney\n",
      "192 Ground_Tangier\n",
      "193 Ground_Taunton\n",
      "194 Ground_Taupo\n",
      "195 Ground_The Hague\n",
      "196 Ground_The Oval\n",
      "197 Ground_Thiruvananthapuram\n",
      "198 Ground_Toronto\n",
      "199 Ground_Townsville\n",
      "200 Ground_Tunbridge Wells\n",
      "201 Ground_Vadodara\n",
      "202 Ground_Vijayawada\n",
      "203 Ground_Visakhapatnam\n",
      "204 Ground_Wellington\n",
      "205 Ground_Whangarei\n",
      "206 Ground_Worcester\n",
      "207 Innings_Team1_First\n",
      "208 Innings_Team1_Second\n",
      "209 Innings_Team2_First\n",
      "210 Innings_Team2_Second\n",
      "211 Venue_Team1_Away\n",
      "212 Venue_Team1_Home\n",
      "213 Venue_Team1_Neutral\n",
      "214 Venue_Team2_Away\n",
      "215 Venue_Team2_Home\n",
      "216 Venue_Team2_Neutral\n",
      "217 Winner_Afghanistan\n",
      "218 Winner_Australia\n",
      "219 Winner_Bangladesh\n",
      "220 Winner_Bermuda\n",
      "221 Winner_Canada\n",
      "222 Winner_East Africa\n",
      "223 Winner_England\n",
      "224 Winner_Hong Kong\n",
      "225 Winner_India\n",
      "226 Winner_Ireland\n",
      "227 Winner_Kenya\n",
      "228 Winner_Namibia\n",
      "229 Winner_Netherlands\n",
      "230 Winner_New Zealand\n",
      "231 Winner_P.N.G.\n",
      "232 Winner_Pakistan\n",
      "233 Winner_Scotland\n",
      "234 Winner_South Africa\n",
      "235 Winner_Sri Lanka\n",
      "236 Winner_U.A.E.\n",
      "237 Winner_U.S.A.\n",
      "238 Winner_West Indies\n",
      "239 Winner_Zimbabwe\n"
     ]
    }
   ],
   "source": [
    "#Display Columns\n",
    "for i, feature in enumerate(list(match_data.columns)):\n",
    "    print (i, feature)"
   ]
  },
  {
   "cell_type": "code",
   "execution_count": 4,
   "metadata": {},
   "outputs": [
    {
     "name": "stdout",
     "output_type": "stream",
     "text": [
      "Index(['Winner_Afghanistan', 'Winner_Australia', 'Winner_Bangladesh',\n",
      "       'Winner_Bermuda', 'Winner_Canada', 'Winner_East Africa',\n",
      "       'Winner_England', 'Winner_Hong Kong', 'Winner_India', 'Winner_Ireland',\n",
      "       'Winner_Kenya', 'Winner_Namibia', 'Winner_Netherlands',\n",
      "       'Winner_New Zealand', 'Winner_P.N.G.', 'Winner_Pakistan',\n",
      "       'Winner_Scotland', 'Winner_South Africa', 'Winner_Sri Lanka',\n",
      "       'Winner_U.A.E.', 'Winner_U.S.A.', 'Winner_West Indies',\n",
      "       'Winner_Zimbabwe'],\n",
      "      dtype='object')\n",
      "Index(['Team 1_Afghanistan', 'Team 1_Australia', 'Team 1_Bangladesh',\n",
      "       'Team 1_Bermuda', 'Team 1_Canada', 'Team 1_East Africa',\n",
      "       'Team 1_England', 'Team 1_Hong Kong', 'Team 1_India', 'Team 1_Ireland',\n",
      "       ...\n",
      "       'Innings_Team1_First', 'Innings_Team1_Second', 'Innings_Team2_First',\n",
      "       'Innings_Team2_Second', 'Venue_Team1_Away', 'Venue_Team1_Home',\n",
      "       'Venue_Team1_Neutral', 'Venue_Team2_Away', 'Venue_Team2_Home',\n",
      "       'Venue_Team2_Neutral'],\n",
      "      dtype='object', length=217)\n",
      "7494\n",
      "7494\n",
      "1760\n",
      "1760\n",
      "1718\n",
      "1718\n",
      "1708\n",
      "1708\n"
     ]
    }
   ],
   "source": [
    "#Separation into Feature Set & Target Set\n",
    "\n",
    "target_cols = match_data.columns[217:240]\n",
    "feature_cols = match_data.columns[0:217]\n",
    "\n",
    "print(target_cols)\n",
    "print(feature_cols)\n",
    "\n",
    "target_set = match_data[target_cols]\n",
    "feature_set = match_data[feature_cols]\n",
    "\n",
    "target_set_India = match_data_India[target_cols]\n",
    "feature_set_India = match_data_India[feature_cols]\n",
    "target_set_Australia = match_data_Australia[target_cols]\n",
    "feature_set_Australia = match_data_Australia[feature_cols]\n",
    "target_set_Pakistan = match_data_Pakistan[target_cols]\n",
    "feature_set_Pakistan = match_data_Pakistan[feature_cols]\n",
    "\n",
    "\n",
    "print(len(target_set))\n",
    "print(len(feature_set))\n",
    "\n",
    "print(len(target_set_India))\n",
    "print(len(feature_set_India))\n",
    "print(len(target_set_Australia))\n",
    "print(len(feature_set_Australia))\n",
    "print(len(target_set_Pakistan))\n",
    "print(len(feature_set_Pakistan))"
   ]
  },
  {
   "cell_type": "code",
   "execution_count": 5,
   "metadata": {},
   "outputs": [
    {
     "name": "stdout",
     "output_type": "stream",
     "text": [
      "5620   5620   1874   1874\n",
      "1320   1320   440   440\n",
      "1288   1288   430   430\n",
      "1281   1281   427   427\n"
     ]
    }
   ],
   "source": [
    "#Splitting Into Training & Testing Datasets\n",
    "X = feature_set\n",
    "Y = target_set\n",
    "X_train, X_test, Y_train, Y_test = tts(X, Y, test_size=0.25)\n",
    "print(len(X_train),\" \",len(Y_train),\" \",len(X_test),\" \",len(Y_test))\n",
    "\n",
    "X_train_India,X_test_India,Y_train_India,Y_test_India = tts(feature_set_India,target_set_India, test_size=0.25)\n",
    "X_train_Australia,X_test_Australia,Y_train_Australia,Y_test_Australia = tts(feature_set_Australia,target_set_Australia, test_size=0.25)\n",
    "X_train_Pakistan,X_test_Pakistan,Y_train_Pakistan,Y_test_Pakistan = tts(feature_set_Pakistan,target_set_Pakistan, test_size=0.25)\n",
    "\n",
    "print(len(X_train_India),\" \",len(Y_train_India),\" \",len(X_test_India),\" \",len(Y_test_India))\n",
    "print(len(X_train_Australia),\" \",len(Y_train_Australia),\" \",len(X_test_Australia),\" \",len(Y_test_Australia))\n",
    "print(len(X_train_Pakistan),\" \",len(Y_train_Pakistan),\" \",len(X_test_Pakistan),\" \",len(Y_test_Pakistan))"
   ]
  },
  {
   "cell_type": "code",
   "execution_count": 31,
   "metadata": {},
   "outputs": [],
   "source": [
    "Check_India_Test = [0]*440\n",
    "Check_India_Prediction = [0]*440;\n",
    "Check_Australia_Test = [0]*430;\n",
    "Check_Australia_Prediction = [0]*430;\n",
    "Check_Pakistan_Test = [0]*427;\n",
    "Check_Pakistan_Prediction = [0]*427;"
   ]
  },
  {
   "cell_type": "code",
   "execution_count": 32,
   "metadata": {},
   "outputs": [
    {
     "data": {
      "text/plain": [
       "MLPClassifier(activation='relu', alpha=0.001, batch_size='auto', beta_1=0.9,\n",
       "       beta_2=0.999, early_stopping=False, epsilon=1e-08,\n",
       "       hidden_layer_sizes=(200, 50), learning_rate='constant',\n",
       "       learning_rate_init=0.001, max_iter=200, momentum=0.9,\n",
       "       nesterovs_momentum=True, power_t=0.5, random_state=2, shuffle=True,\n",
       "       solver='lbfgs', tol=0.0001, validation_fraction=0.1, verbose=False,\n",
       "       warm_start=False)"
      ]
     },
     "execution_count": 32,
     "metadata": {},
     "output_type": "execute_result"
    }
   ],
   "source": [
    "#Perceptron Classifier\n",
    "\n",
    "from sklearn.neural_network import MLPClassifier\n",
    "MLPclf = MLPClassifier(solver='lbfgs', alpha=1e-3, hidden_layer_sizes=(200, 50), random_state=2)\n",
    "MLPclf.fit(X_train, Y_train)"
   ]
  },
  {
   "cell_type": "code",
   "execution_count": 33,
   "metadata": {},
   "outputs": [],
   "source": [
    "predictedOverAll = MLPclf.predict(X_test)\n",
    "predicted_India = MLPclf.predict(X_test_India)\n",
    "predicted_Australia = MLPclf.predict(X_test_Australia)\n",
    "predicted_Pakistan = MLPclf.predict(X_test_Pakistan)"
   ]
  },
  {
   "cell_type": "code",
   "execution_count": 34,
   "metadata": {},
   "outputs": [
    {
     "name": "stdout",
     "output_type": "stream",
     "text": [
      "0.574706510139\n",
      "0.695454545455\n",
      "0.648837209302\n",
      "0.690866510539\n"
     ]
    }
   ],
   "source": [
    "from sklearn.metrics import accuracy_score\n",
    "print(accuracy_score(Y_test, predictedOverAll))\n",
    "print(accuracy_score(Y_test_India, predicted_India))\n",
    "print(accuracy_score(Y_test_Australia, predicted_Australia))\n",
    "print(accuracy_score(Y_test_Pakistan, predicted_Pakistan))"
   ]
  },
  {
   "cell_type": "code",
   "execution_count": 35,
   "metadata": {},
   "outputs": [
    {
     "name": "stdout",
     "output_type": "stream",
     "text": [
      "[1, 1, 0, 0, 1, 1, 0, 0, 0, 0, 1, 1, 1, 0, 0, 0, 0, 1, 1, 0, 0, 1, 1, 1, 0, 1, 1, 1, 1, 0, 1, 1, 1, 1, 1, 0, 0, 0, 0, 1, 0, 1, 1, 1, 0, 1, 0, 0, 1, 1, 1, 0, 1, 1, 0, 1, 1, 1, 1, 1, 1, 1, 0, 0, 1, 0, 1, 0, 0, 0, 1, 1, 0, 1, 1, 0, 1, 0, 0, 1, 1, 0, 1, 1, 1, 0, 1, 0, 1, 1, 0, 1, 0, 0, 1, 1, 0, 0, 1, 0, 1, 0, 1, 1, 0, 0, 1, 1, 0, 1, 0, 1, 1, 0, 1, 1, 0, 1, 1, 0, 1, 0, 0, 1, 0, 0, 0, 1, 0, 0, 0, 1, 1, 0, 0, 1, 1, 0, 1, 1, 0, 1, 1, 1, 1, 1, 1, 0, 0, 0, 0, 1, 1, 0, 1, 0, 1, 1, 0, 1, 1, 1, 1, 0, 0, 0, 0, 1, 0, 0, 1, 1, 1, 0, 1, 1, 1, 1, 1, 0, 0, 1, 0, 1, 1, 1, 1, 1, 1, 1, 1, 0, 0, 1, 1, 0, 0, 1, 0, 1, 1, 1, 1, 0, 1, 1, 1, 0, 1, 0, 0, 0, 0, 1, 1, 0, 0, 0, 0, 1, 0, 1, 0, 1, 1, 1, 0, 1, 1, 0, 0, 1, 0, 0, 1, 0, 0, 1, 1, 1, 1, 1, 0, 1, 1, 1, 1, 0, 1, 1, 1, 1, 1, 1, 1, 1, 1, 0, 1, 1, 1, 0, 1, 1, 1, 1, 0, 0, 0, 1, 1, 1, 1, 1, 0, 1, 1, 0, 0, 1, 0, 1, 1, 0, 0, 0, 1, 0, 0, 0, 1, 0, 1, 1, 0, 1, 0, 0, 0, 0, 1, 1, 0, 1, 1, 1, 0, 1, 1, 0, 1, 1, 1, 1, 0, 1, 1, 1, 0, 1, 0, 1, 1, 1, 1, 0, 1, 1, 0, 0, 0, 0, 0, 0, 1, 0, 0, 0, 0, 0, 0, 1, 0, 1, 0, 1, 1, 0, 0, 1, 1, 0, 1, 1, 0, 0, 0, 1, 0, 0, 1, 0, 0, 0, 1, 0, 0, 0, 0, 1, 1, 0, 0, 1, 1, 1, 1, 0, 0, 1, 1, 0, 1, 1, 1, 1, 0, 0, 1, 1, 1, 0, 1, 1, 1, 1, 1, 1, 0, 1, 1, 0, 0, 1, 0, 0, 0, 1, 1, 0, 0, 0, 1, 0, 1, 0, 0, 1, 1, 1, 1, 0, 1, 0, 0, 1, 1, 0, 0, 0, 1, 1, 1, 1, 1, 1, 0, 0, 0, 0]\n"
     ]
    }
   ],
   "source": [
    "i = -1\n",
    "for index,row in Y_test_India.iterrows():\n",
    "    i+=1\n",
    "    if row['Winner_India']==True:\n",
    "        Check_India_Test[i] = 1\n",
    "print(Check_India_Test)"
   ]
  },
  {
   "cell_type": "code",
   "execution_count": 36,
   "metadata": {},
   "outputs": [
    {
     "name": "stdout",
     "output_type": "stream",
     "text": [
      "[1, 1, 0, 1, 1, 1, 1, 0, 0, 0, 1, 0, 1, 0, 0, 0, 0, 1, 1, 0, 0, 0, 1, 0, 0, 1, 0, 1, 1, 1, 0, 1, 1, 1, 0, 0, 1, 0, 0, 1, 0, 0, 1, 1, 0, 0, 1, 0, 1, 1, 1, 1, 1, 1, 0, 1, 1, 1, 1, 1, 1, 1, 1, 0, 1, 0, 1, 0, 1, 0, 1, 1, 0, 1, 1, 0, 0, 0, 1, 1, 1, 1, 1, 1, 1, 0, 0, 1, 1, 1, 0, 1, 1, 0, 1, 1, 0, 0, 1, 0, 1, 0, 1, 0, 1, 0, 1, 1, 0, 0, 0, 1, 1, 1, 1, 0, 0, 1, 1, 0, 1, 0, 0, 1, 0, 0, 0, 1, 1, 0, 0, 1, 1, 1, 0, 1, 0, 0, 1, 1, 0, 1, 1, 1, 1, 1, 1, 0, 0, 1, 0, 0, 0, 0, 1, 0, 1, 1, 1, 0, 0, 1, 1, 0, 0, 0, 1, 0, 0, 0, 1, 0, 1, 1, 0, 1, 1, 1, 0, 0, 0, 1, 0, 0, 1, 0, 0, 1, 1, 0, 1, 0, 0, 1, 1, 0, 0, 1, 0, 1, 1, 1, 1, 0, 1, 1, 1, 0, 1, 1, 1, 1, 0, 0, 1, 1, 0, 1, 0, 0, 0, 1, 0, 1, 1, 1, 0, 0, 1, 0, 1, 1, 0, 0, 1, 1, 0, 1, 1, 1, 1, 1, 0, 0, 1, 1, 1, 0, 1, 1, 1, 1, 0, 1, 1, 1, 1, 0, 1, 1, 0, 0, 1, 0, 1, 1, 0, 1, 0, 1, 1, 1, 1, 1, 0, 1, 1, 0, 0, 1, 0, 0, 0, 0, 0, 0, 1, 0, 0, 0, 0, 1, 1, 1, 0, 0, 0, 1, 1, 0, 1, 1, 1, 1, 1, 1, 0, 1, 1, 0, 1, 1, 1, 1, 0, 1, 1, 0, 0, 1, 0, 1, 0, 0, 1, 1, 1, 1, 1, 0, 0, 1, 0, 0, 0, 0, 0, 1, 1, 0, 0, 1, 0, 1, 0, 1, 1, 0, 0, 1, 0, 0, 1, 1, 0, 0, 0, 1, 1, 0, 1, 0, 0, 1, 1, 0, 0, 0, 1, 1, 1, 1, 1, 0, 1, 1, 1, 1, 0, 1, 1, 0, 1, 1, 1, 0, 0, 1, 1, 1, 0, 0, 1, 1, 0, 1, 1, 1, 0, 1, 1, 1, 0, 1, 0, 1, 0, 1, 0, 1, 0, 1, 1, 0, 1, 0, 0, 1, 1, 1, 1, 1, 0, 0, 0, 1, 1, 0, 0, 1, 1, 0, 1, 1, 0, 1, 0, 0, 1, 1]\n"
     ]
    }
   ],
   "source": [
    "for i in range(len(predicted_India)):\n",
    "    if predicted_India[i][8]==True:\n",
    "        Check_India_Prediction[i]=1\n",
    "print(Check_India_Prediction)"
   ]
  },
  {
   "cell_type": "code",
   "execution_count": 37,
   "metadata": {},
   "outputs": [],
   "source": [
    "i = -1\n",
    "for index,row in Y_test_Australia.iterrows():\n",
    "    i+=1\n",
    "    if row['Winner_Australia']==True:\n",
    "        Check_Australia_Test[i] = 1\n",
    "        \n",
    "for i in range(len(predicted_Australia)):\n",
    "    if predicted_Australia[i][1]==True:\n",
    "        Check_Australia_Prediction[i]=1"
   ]
  },
  {
   "cell_type": "code",
   "execution_count": 38,
   "metadata": {},
   "outputs": [],
   "source": [
    "i = -1\n",
    "for index,row in Y_test_Pakistan.iterrows():\n",
    "    i+=1\n",
    "    if row['Winner_Pakistan']==True:\n",
    "        Check_Pakistan_Test[i] = 1\n",
    "        \n",
    "for i in range(len(predicted_Pakistan)):\n",
    "    if predicted_Pakistan[i][15]==True:\n",
    "        Check_Pakistan_Prediction[i]=1"
   ]
  },
  {
   "cell_type": "code",
   "execution_count": 39,
   "metadata": {},
   "outputs": [
    {
     "name": "stdout",
     "output_type": "stream",
     "text": [
      "0.797570850202\n",
      "0.850847457627\n",
      "0.80686695279\n"
     ]
    }
   ],
   "source": [
    "from sklearn.metrics import recall_score\n",
    "print(recall_score(Check_India_Test,Check_India_Prediction,average='binary'))\n",
    "print(recall_score(Check_Australia_Test,Check_Australia_Prediction,average='binary'))\n",
    "print(recall_score(Check_Pakistan_Test,Check_Pakistan_Prediction,average='binary'))"
   ]
  },
  {
   "cell_type": "code",
   "execution_count": 40,
   "metadata": {},
   "outputs": [
    {
     "name": "stdout",
     "output_type": "stream",
     "text": [
      "0.791164658635\n",
      "0.760606060606\n",
      "0.767346938776\n"
     ]
    }
   ],
   "source": [
    "from sklearn.metrics import precision_score\n",
    "print(precision_score(Check_India_Test,Check_India_Prediction,average='binary'))\n",
    "print(precision_score(Check_Australia_Test,Check_Australia_Prediction,average='binary'))\n",
    "print(precision_score(Check_Pakistan_Test,Check_Pakistan_Prediction,average='binary'))"
   ]
  },
  {
   "cell_type": "code",
   "execution_count": 41,
   "metadata": {},
   "outputs": [
    {
     "name": "stdout",
     "output_type": "stream",
     "text": [
      "0.79435483871\n",
      "0.8032\n",
      "0.786610878661\n"
     ]
    }
   ],
   "source": [
    "from sklearn.metrics import f1_score\n",
    "print(f1_score(Check_India_Test,Check_India_Prediction,average='binary'))\n",
    "print(f1_score(Check_Australia_Test,Check_Australia_Prediction,average='binary'))\n",
    "print(f1_score(Check_Pakistan_Test,Check_Pakistan_Prediction,average='binary'))"
   ]
  },
  {
   "cell_type": "code",
   "execution_count": 42,
   "metadata": {},
   "outputs": [
    {
     "name": "stdout",
     "output_type": "stream",
     "text": [
      "0.744646233074\n",
      "0.749485314318\n",
      "0.724533303084\n"
     ]
    }
   ],
   "source": [
    "from sklearn.metrics import average_precision_score\n",
    "print(average_precision_score(Check_India_Test,Check_India_Prediction))\n",
    "print(average_precision_score(Check_Australia_Test,Check_Australia_Prediction))\n",
    "print(average_precision_score(Check_Pakistan_Test,Check_Pakistan_Prediction))"
   ]
  },
  {
   "cell_type": "code",
   "execution_count": 43,
   "metadata": {},
   "outputs": [
    {
     "data": {
      "image/png": "[encoded data removed]",
      "text/plain": [
       "<matplotlib.figure.Figure at 0x7fdc474c7d68>"
      ]
     },
     "metadata": {},
     "output_type": "display_data"
    }
   ],
   "source": [
    "import matplotlib.pyplot as plt\n",
    "\n",
    "precision = precision_score(Check_India_Test,Check_India_Prediction,average='binary')\n",
    "recall = recall_score(Check_India_Test,Check_India_Prediction,average='binary')\n",
    "\n",
    "plt.scatter([0.2], [precision], c='b',s=150)\n",
    "plt.scatter([0.8], [recall], c='r',s=150)\n",
    "plt.ylim([0.5, 1.0])\n",
    "plt.xlim([0.0, 1.0])\n",
    "plt.title('Team: India')\n",
    "plt.show()"
   ]
  },
  {
   "cell_type": "code",
   "execution_count": 44,
   "metadata": {},
   "outputs": [
    {
     "data": {
      "image/png": "[encoded data removed]",
      "text/plain": [
       "<matplotlib.figure.Figure at 0x7fdc0671b240>"
      ]
     },
     "metadata": {},
     "output_type": "display_data"
    }
   ],
   "source": [
    "precision = precision_score(Check_Australia_Test,Check_Australia_Prediction,average='binary')\n",
    "recall = recall_score(Check_Australia_Test,Check_Australia_Prediction,average='binary')\n",
    "\n",
    "plt.scatter([0.2], [precision], c='b',s=150)\n",
    "plt.scatter([0.8], [recall], c='r',s=150)\n",
    "plt.ylim([0.5, 1.0])\n",
    "plt.xlim([0.0, 1.0])\n",
    "\n",
    "plt.title('Team: Australia')\n",
    "plt.show()"
   ]
  },
  {
   "cell_type": "code",
   "execution_count": 45,
   "metadata": {},
   "outputs": [
    {
     "data": {
      "image/png": "[encoded data removed]",
      "text/plain": [
       "<matplotlib.figure.Figure at 0x7fdc06d095c0>"
      ]
     },
     "metadata": {},
     "output_type": "display_data"
    }
   ],
   "source": [
    "precision = precision_score(Check_Pakistan_Test,Check_Pakistan_Prediction,average='binary')\n",
    "recall = recall_score(Check_Pakistan_Test,Check_Pakistan_Prediction,average='binary')\n",
    "\n",
    "plt.scatter([0.2], [precision], c='b',s=150)\n",
    "plt.scatter([0.8], [recall], c='r',s=150)\n",
    "plt.ylim([0.5, 1.0])\n",
    "plt.xlim([0.0, 1.0])\n",
    "\n",
    "plt.title('Team: Pakistan')\n",
    "plt.show()"
   ]
  }
 ],
 "metadata": {
  "kernelspec": {
   "display_name": "Python 3",
   "language": "python",
   "name": "python3"
  },
  "language_info": {
   "codemirror_mode": {
    "name": "ipython",
    "version": 3
   },
   "file_extension": ".py",
   "mimetype": "text/x-python",
   "name": "python",
   "nbconvert_exporter": "python",
   "pygments_lexer": "ipython3",
   "version": "3.5.2"
  }
 },
 "nbformat": 4,
 "nbformat_minor": 2
}
